{
  "cells": [
    {
      "cell_type": "markdown",
      "metadata": {
        "id": "view-in-github",
        "colab_type": "text"
      },
      "source": [
        "<a href=\"https://colab.research.google.com/github/hemu2014/test/blob/main/Exercises_2.ipynb\" target=\"_parent\"><img src=\"https://colab.research.google.com/assets/colab-badge.svg\" alt=\"Open In Colab\"/></a>"
      ]
    },
    {
      "cell_type": "markdown",
      "metadata": {
        "id": "d9312vJEvXM7"
      },
      "source": [
        "![rmotr](https://user-images.githubusercontent.com/7065401/52071918-bda15380-2562-11e9-828c-7f95297e4a82.png)\n",
        "<hr style=\"margin-bottom: 40px;\">\n",
        "\n",
        "# Exercises\n",
        "## The Sakila Database\n",
        "\n",
        "One of the best example databases out there is the <a href=\"https://dev.mysql.com/doc/sakila/en/\">Sakila Database</a>, which was originally created by MySQL and has been open sourced under the terms of the BSD License.\n",
        "\n",
        "The Sakila database is a nicely normalised schema modelling a DVD rental store, featuring things like films, actors, film-actor relationships, and a central inventory table that connects films, stores, and rentals.\n",
        "\n",
        "<img width=\"1200px\" src=\"https://user-images.githubusercontent.com/7065401/58504872-fa243b00-8161-11e9-85ed-4b7d8d7ce9f7.png\" />"
      ]
    },
    {
      "cell_type": "markdown",
      "metadata": {
        "id": "iQUn2oqXvXM8"
      },
      "source": [
        "![purple-divider](https://user-images.githubusercontent.com/7065401/52071927-c1cd7100-2562-11e9-908a-dde91ba14e59.png)\n",
        "\n",
        "## Hands on!"
      ]
    },
    {
      "cell_type": "code",
      "execution_count": null,
      "metadata": {
        "id": "RYnjCQg9vXM8"
      },
      "outputs": [],
      "source": [
        "import numpy as np\n",
        "import pandas as pd\n",
        "import matplotlib.pyplot as plt\n",
        "import sqlite3\n",
        "\n",
        "%matplotlib inline"
      ]
    },
    {
      "cell_type": "code",
      "execution_count": null,
      "metadata": {
        "id": "nzNrUt_CvXM9"
      },
      "outputs": [],
      "source": [
        "conn = sqlite3.connect('data/sakila.db')\n",
        "\n",
        "df = pd.read_sql('''\n",
        "    SELECT\n",
        "        rental.rental_id, rental.rental_date, rental.return_date,\n",
        "        customer.last_name AS customer_lastname,\n",
        "        store.store_id,\n",
        "        city.city AS rental_store_city,\n",
        "        film.title AS film_title, film.rental_duration AS film_rental_duration,\n",
        "        film.rental_rate AS film_rental_rate, film.replacement_cost AS film_replacement_cost,\n",
        "        film.rating AS film_rating\n",
        "    FROM rental\n",
        "    INNER JOIN customer ON rental.customer_id == customer.customer_id\n",
        "    INNER JOIN inventory ON rental.inventory_id == inventory.inventory_id\n",
        "    INNER JOIN store ON inventory.store_id == store.store_id\n",
        "    INNER JOIN address ON store.address_id == address.address_id\n",
        "    INNER JOIN city ON address.city_id == city.city_id\n",
        "    INNER JOIN film ON inventory.film_id == film.film_id\n",
        "    ;\n",
        "''', conn, index_col='rental_id', parse_dates=['rental_date', 'return_date'])"
      ]
    },
    {
      "cell_type": "code",
      "execution_count": null,
      "metadata": {
        "id": "CAaIplkEvXM9"
      },
      "outputs": [],
      "source": [
        "df.head()"
      ]
    },
    {
      "cell_type": "markdown",
      "metadata": {
        "id": "bRfLKCDWvXM9"
      },
      "source": [
        "![green-divider](https://user-images.githubusercontent.com/7065401/52071924-c003ad80-2562-11e9-8297-1c6595f8a7ff.png)\n",
        "\n",
        "### What's the mean of `film_rental_duration`?"
      ]
    },
    {
      "cell_type": "code",
      "execution_count": null,
      "metadata": {
        "id": "3RB4XsBIvXM9"
      },
      "outputs": [],
      "source": [
        "# your code goes here\n"
      ]
    },
    {
      "cell_type": "code",
      "execution_count": null,
      "metadata": {
        "cell_type": "solution",
        "id": "ngNFM5VlvXM-"
      },
      "outputs": [],
      "source": [
        "df['film_rental_duration'].mean()"
      ]
    },
    {
      "cell_type": "markdown",
      "metadata": {
        "id": "NDgxPL2MvXM-"
      },
      "source": [
        "![green-divider](https://user-images.githubusercontent.com/7065401/52071924-c003ad80-2562-11e9-8297-1c6595f8a7ff.png)\n",
        "\n",
        "### What's the most common rental duration?\n",
        "\n",
        "Show a <b>bar plot</b> with all the durations."
      ]
    },
    {
      "cell_type": "code",
      "execution_count": null,
      "metadata": {
        "id": "VOUCvDjKvXM-"
      },
      "outputs": [],
      "source": [
        "# your code goes here\n"
      ]
    },
    {
      "cell_type": "code",
      "execution_count": null,
      "metadata": {
        "cell_type": "solution",
        "id": "kF5sOym6vXM-"
      },
      "outputs": [],
      "source": [
        "df['film_rental_duration'].value_counts().plot(kind='bar', figsize=(14,6))"
      ]
    },
    {
      "cell_type": "markdown",
      "metadata": {
        "id": "0ZV3R8cjvXM-"
      },
      "source": [
        "![green-divider](https://user-images.githubusercontent.com/7065401/52071924-c003ad80-2562-11e9-8297-1c6595f8a7ff.png)\n",
        "\n",
        "### What is the most common rental rate?\n",
        "\n",
        "- Show a <b>pie plot</b> with all possible rental rates.\n",
        "- Show a <b>bar plot</b> with all possible rental rates.\n",
        "- Which plot you think fits the best in this case? Why?"
      ]
    },
    {
      "cell_type": "code",
      "execution_count": null,
      "metadata": {
        "id": "ZH5M-92hvXM_"
      },
      "outputs": [],
      "source": [
        "# your code goes here\n"
      ]
    },
    {
      "cell_type": "code",
      "execution_count": null,
      "metadata": {
        "cell_type": "solution",
        "id": "kI1ffKa8vXM_"
      },
      "outputs": [],
      "source": [
        "df['film_rental_rate'].value_counts().plot(kind='pie', figsize=(6,6))"
      ]
    },
    {
      "cell_type": "code",
      "execution_count": null,
      "metadata": {
        "id": "LNo0mlgBvXM_"
      },
      "outputs": [],
      "source": [
        "# your code goes here\n"
      ]
    },
    {
      "cell_type": "code",
      "execution_count": null,
      "metadata": {
        "cell_type": "solution",
        "id": "JSS8Pv2rvXM_"
      },
      "outputs": [],
      "source": [
        "df['film_rental_rate'].value_counts().plot(kind='bar', figsize=(14,6))"
      ]
    },
    {
      "cell_type": "markdown",
      "metadata": {
        "id": "ESrb7H9hvXM_"
      },
      "source": [
        "![green-divider](https://user-images.githubusercontent.com/7065401/52071924-c003ad80-2562-11e9-8297-1c6595f8a7ff.png)\n",
        "\n",
        "### How is the replacement cost distributed?\n",
        "\n",
        "- Show a <b>box plot</b> of the replacement costs.\n",
        "- Show a <b>density plot</b> of the replacement costs.\n",
        "- Add a red line on the <b>mean</b>.\n",
        "- Add a green line on the median <b>median</b>."
      ]
    },
    {
      "cell_type": "code",
      "execution_count": null,
      "metadata": {
        "id": "jvgYzty5vXM_"
      },
      "outputs": [],
      "source": [
        "# your code goes here\n"
      ]
    },
    {
      "cell_type": "code",
      "execution_count": null,
      "metadata": {
        "cell_type": "solution",
        "id": "gda_mTNXvXM_"
      },
      "outputs": [],
      "source": [
        "df['film_replacement_cost'].plot(kind='box', vert=False, figsize=(14,6))"
      ]
    },
    {
      "cell_type": "code",
      "execution_count": null,
      "metadata": {
        "id": "--r3E-RRvXM_"
      },
      "outputs": [],
      "source": [
        "# your code goes here\n"
      ]
    },
    {
      "cell_type": "code",
      "execution_count": null,
      "metadata": {
        "cell_type": "solution",
        "id": "jQfg-kgEvXNA"
      },
      "outputs": [],
      "source": [
        "ax = df['film_replacement_cost'].plot(kind='density', figsize=(14,6))\n",
        "ax.axvline(df['film_replacement_cost'].mean(), color='red')\n",
        "ax.axvline(df['film_replacement_cost'].median(), color='green')"
      ]
    },
    {
      "cell_type": "markdown",
      "metadata": {
        "id": "UNZNcxCevXNA"
      },
      "source": [
        "![green-divider](https://user-images.githubusercontent.com/7065401/52071924-c003ad80-2562-11e9-8297-1c6595f8a7ff.png)\n",
        "\n",
        "### How many films of each rating do we have?\n",
        "\n",
        "- Show the raw count of each film rating.\n",
        "- Show a <b>bar plot</b> with all possible film ratings."
      ]
    },
    {
      "cell_type": "code",
      "execution_count": null,
      "metadata": {
        "id": "xwfRDpjSvXNA"
      },
      "outputs": [],
      "source": [
        "# your code goes here\n"
      ]
    },
    {
      "cell_type": "code",
      "execution_count": null,
      "metadata": {
        "cell_type": "solution",
        "id": "0Gznp0vjvXNA"
      },
      "outputs": [],
      "source": [
        "df['film_rating'].value_counts()"
      ]
    },
    {
      "cell_type": "code",
      "execution_count": null,
      "metadata": {
        "id": "CWrbLBcLvXNA"
      },
      "outputs": [],
      "source": [
        "# your code goes here\n"
      ]
    },
    {
      "cell_type": "code",
      "execution_count": null,
      "metadata": {
        "cell_type": "solution",
        "id": "ncKfyMBlvXNA"
      },
      "outputs": [],
      "source": [
        "df['film_rating'].value_counts().plot(kind='bar', figsize=(14,6))"
      ]
    },
    {
      "cell_type": "markdown",
      "metadata": {
        "id": "bBdbr3PkvXNA"
      },
      "source": [
        "![green-divider](https://user-images.githubusercontent.com/7065401/52071924-c003ad80-2562-11e9-8297-1c6595f8a7ff.png)\n",
        "\n",
        "### Does the film replacement cost vary depending on film rating?\n",
        "\n",
        "In the United States, film classification is a voluntary process with the ratings issued by the Motion Picture Association of America (MPAA) via the Classification and Rating Administration (CARA).\n",
        "\n",
        "- G (General Audiences): All Ages are Admitted.\n",
        "- PG (Parental Guidance Suggested): Some Material May Not Be Suitable for Children.\n",
        "- PG-13 (Parents Strongly Cautioned): Some Material May Be Inappropriate for Children Under 13.\n",
        "- R (Restricted): Under 17 Requires Accompanying Parent or Adult Guardian.\n",
        "- NC-17 (Adults Only): No One 17 and Under Admitted.\n",
        "\n",
        "Show a <b>grouped box plot</b> per film rating with the film replacement costs."
      ]
    },
    {
      "cell_type": "code",
      "execution_count": null,
      "metadata": {
        "id": "ZPMLzY82vXNA"
      },
      "outputs": [],
      "source": [
        "# your code goes here\n"
      ]
    },
    {
      "cell_type": "code",
      "execution_count": null,
      "metadata": {
        "cell_type": "solution",
        "id": "BI14hRNSvXNA"
      },
      "outputs": [],
      "source": [
        "df[['film_replacement_cost', 'film_rating']].boxplot(by='film_rating', figsize=(14,6))"
      ]
    },
    {
      "cell_type": "markdown",
      "metadata": {
        "id": "v1g7p28tvXNA"
      },
      "source": [
        "![green-divider](https://user-images.githubusercontent.com/7065401/52071924-c003ad80-2562-11e9-8297-1c6595f8a7ff.png)\n",
        "\n",
        "### Add and calculate a new `rental_days` column\n",
        "\n",
        "This numeric column should have the count of days between `rental_date` and `return_date`."
      ]
    },
    {
      "cell_type": "code",
      "execution_count": null,
      "metadata": {
        "id": "LxEtMu6FvXNA"
      },
      "outputs": [],
      "source": [
        "# your code goes here\n"
      ]
    },
    {
      "cell_type": "code",
      "execution_count": null,
      "metadata": {
        "cell_type": "solution",
        "id": "7CtskCtCvXNB"
      },
      "outputs": [],
      "source": [
        "df['rental_days'] = df[['rental_date', 'return_date']].apply(lambda x: (x[1] - x[0]).days, axis=1)\n",
        "\n",
        "df['rental_days'].head()"
      ]
    },
    {
      "cell_type": "markdown",
      "metadata": {
        "id": "CBGHrqowvXNB"
      },
      "source": [
        "![green-divider](https://user-images.githubusercontent.com/7065401/52071924-c003ad80-2562-11e9-8297-1c6595f8a7ff.png)\n",
        "\n",
        "### Analyze the distribution of `rental_days`\n",
        "\n",
        "- Calculate the mean of `rental_days`.\n",
        "- Show a <b>density (KDE)</b> of `rental_days`."
      ]
    },
    {
      "cell_type": "code",
      "execution_count": null,
      "metadata": {
        "id": "lGuNGPwLvXNB"
      },
      "outputs": [],
      "source": [
        "# your code goes here\n"
      ]
    },
    {
      "cell_type": "code",
      "execution_count": null,
      "metadata": {
        "cell_type": "solution",
        "id": "feiFqTfrvXNB"
      },
      "outputs": [],
      "source": [
        "df['rental_days'].mean()"
      ]
    },
    {
      "cell_type": "code",
      "execution_count": null,
      "metadata": {
        "id": "GNaSOa0qvXNB"
      },
      "outputs": [],
      "source": [
        "# your code goes here\n"
      ]
    },
    {
      "cell_type": "code",
      "execution_count": null,
      "metadata": {
        "cell_type": "solution",
        "id": "D5Xa6CodvXNB"
      },
      "outputs": [],
      "source": [
        "ax = df['rental_days'].plot(kind='density', figsize=(14,6))\n",
        "ax.axvline(df['rental_days'].mean(), color='red')"
      ]
    },
    {
      "cell_type": "markdown",
      "metadata": {
        "id": "QoMF5Gc_vXNB"
      },
      "source": [
        "![green-divider](https://user-images.githubusercontent.com/7065401/52071924-c003ad80-2562-11e9-8297-1c6595f8a7ff.png)\n",
        "\n",
        "### Add and calculate a new `film_daily_rental_rate` column\n",
        "\n",
        "This value should be the division of `film_rental_rate` by `film_rental_duration`."
      ]
    },
    {
      "cell_type": "code",
      "execution_count": null,
      "metadata": {
        "id": "RZYpzVVwvXNB"
      },
      "outputs": [],
      "source": [
        "# your code goes here\n"
      ]
    },
    {
      "cell_type": "code",
      "execution_count": null,
      "metadata": {
        "cell_type": "solution",
        "id": "8OW2ENZOvXNE"
      },
      "outputs": [],
      "source": [
        "df['film_daily_rental_rate'] = df['film_rental_rate'] / df['film_rental_duration']\n",
        "\n",
        "df['film_daily_rental_rate'].head()"
      ]
    },
    {
      "cell_type": "markdown",
      "metadata": {
        "id": "uzHLrfqAvXNE"
      },
      "source": [
        "![green-divider](https://user-images.githubusercontent.com/7065401/52071924-c003ad80-2562-11e9-8297-1c6595f8a7ff.png)\n",
        "\n",
        "### Analyze the distribution of `film_daily_rental_rate`\n",
        "\n",
        "- Calculate the mean of `film_daily_rental_rate`.\n",
        "- Show a <b>density (KDE)</b> of `film_daily_rental_rate`."
      ]
    },
    {
      "cell_type": "code",
      "execution_count": null,
      "metadata": {
        "id": "iPI5vE_rvXNE"
      },
      "outputs": [],
      "source": [
        "# your code goes here\n"
      ]
    },
    {
      "cell_type": "code",
      "execution_count": null,
      "metadata": {
        "cell_type": "solution",
        "id": "VMTaBGmIvXNE"
      },
      "outputs": [],
      "source": [
        "df['film_daily_rental_rate'].mean()"
      ]
    },
    {
      "cell_type": "code",
      "execution_count": null,
      "metadata": {
        "id": "2YzPSgTwvXNE"
      },
      "outputs": [],
      "source": [
        "# your code goes here\n"
      ]
    },
    {
      "cell_type": "code",
      "execution_count": null,
      "metadata": {
        "cell_type": "solution",
        "id": "5MkI7WwEvXNE"
      },
      "outputs": [],
      "source": [
        "ax = df['film_daily_rental_rate'].plot(kind='density', figsize=(14,6))\n",
        "ax.axvline(df['film_daily_rental_rate'].mean(), color='red')"
      ]
    },
    {
      "cell_type": "markdown",
      "metadata": {
        "id": "vHkCJJujvXNE"
      },
      "source": [
        "![green-divider](https://user-images.githubusercontent.com/7065401/52071924-c003ad80-2562-11e9-8297-1c6595f8a7ff.png)\n",
        "\n",
        "### List 10 films with the lowest daily rental rate"
      ]
    },
    {
      "cell_type": "code",
      "execution_count": null,
      "metadata": {
        "id": "NeJO6I0vvXNF"
      },
      "outputs": [],
      "source": [
        "# your code goes here\n"
      ]
    },
    {
      "cell_type": "code",
      "execution_count": null,
      "metadata": {
        "cell_type": "solution",
        "id": "JULny8rAvXNF"
      },
      "outputs": [],
      "source": [
        "df.loc[df['film_daily_rental_rate'] == df['film_daily_rental_rate'].min()].head(10)"
      ]
    },
    {
      "cell_type": "markdown",
      "metadata": {
        "id": "7K2aWzKovXNF"
      },
      "source": [
        "![green-divider](https://user-images.githubusercontent.com/7065401/52071924-c003ad80-2562-11e9-8297-1c6595f8a7ff.png)\n",
        "\n",
        "### List 10 films with the highest daily rental rate"
      ]
    },
    {
      "cell_type": "code",
      "execution_count": null,
      "metadata": {
        "id": "w_XtMUievXNF"
      },
      "outputs": [],
      "source": [
        "# your code goes here\n"
      ]
    },
    {
      "cell_type": "code",
      "execution_count": null,
      "metadata": {
        "cell_type": "solution",
        "id": "mEohjTtQvXNF"
      },
      "outputs": [],
      "source": [
        "df.loc[df['film_daily_rental_rate'] == df['film_daily_rental_rate'].max()].head(10)"
      ]
    },
    {
      "cell_type": "markdown",
      "metadata": {
        "id": "8fijryeQvXNF"
      },
      "source": [
        "![green-divider](https://user-images.githubusercontent.com/7065401/52071924-c003ad80-2562-11e9-8297-1c6595f8a7ff.png)\n",
        "\n",
        "### How many rentals were made in Lethbridge city?"
      ]
    },
    {
      "cell_type": "code",
      "execution_count": null,
      "metadata": {
        "id": "1CHL8wwwvXNF"
      },
      "outputs": [],
      "source": [
        "# your code goes here\n"
      ]
    },
    {
      "cell_type": "code",
      "execution_count": null,
      "metadata": {
        "cell_type": "solution",
        "id": "qN9qSz3ZvXNF"
      },
      "outputs": [],
      "source": [
        "df.loc[df['rental_store_city'] == 'Lethbridge'].shape[0]"
      ]
    },
    {
      "cell_type": "markdown",
      "metadata": {
        "id": "4NPJ6YQdvXNF"
      },
      "source": [
        "![green-divider](https://user-images.githubusercontent.com/7065401/52071924-c003ad80-2562-11e9-8297-1c6595f8a7ff.png)\n",
        "\n",
        "### How many rentals of each film rating were made in Lethbridge city?\n",
        "\n",
        "Show a <b>bar plot</b> with each film rating count."
      ]
    },
    {
      "cell_type": "code",
      "execution_count": null,
      "metadata": {
        "id": "rEKB6LCZvXNG"
      },
      "outputs": [],
      "source": [
        "# your code goes here\n"
      ]
    },
    {
      "cell_type": "code",
      "execution_count": null,
      "metadata": {
        "cell_type": "solution",
        "id": "QPbT5S4IvXNG"
      },
      "outputs": [],
      "source": [
        "df.loc[df['rental_store_city'] == 'Lethbridge', 'film_rating'].value_counts()"
      ]
    },
    {
      "cell_type": "code",
      "execution_count": null,
      "metadata": {
        "cell_type": "solution",
        "id": "ome47VVyvXNG"
      },
      "outputs": [],
      "source": [
        "df.loc[df['rental_store_city'] == 'Lethbridge', 'film_rating'].value_counts().plot(kind='bar', figsize=(14,6))"
      ]
    },
    {
      "cell_type": "markdown",
      "metadata": {
        "id": "Fv78fBblvXNG"
      },
      "source": [
        "![green-divider](https://user-images.githubusercontent.com/7065401/52071924-c003ad80-2562-11e9-8297-1c6595f8a7ff.png)\n",
        "\n",
        "### How many rentals were made in Woodridge city with rental duration higher than 5 days?"
      ]
    },
    {
      "cell_type": "code",
      "execution_count": null,
      "metadata": {
        "id": "g2YhQlZTvXNG"
      },
      "outputs": [],
      "source": [
        "# your code goes here\n"
      ]
    },
    {
      "cell_type": "code",
      "execution_count": null,
      "metadata": {
        "cell_type": "solution",
        "id": "AI1Hpw9dvXNG"
      },
      "outputs": [],
      "source": [
        "df.loc[(df['rental_store_city'] == 'Woodridge') & (df['film_rental_duration'] > 5)].shape[0]"
      ]
    },
    {
      "cell_type": "markdown",
      "metadata": {
        "id": "unQ75MYdvXNG"
      },
      "source": [
        "![green-divider](https://user-images.githubusercontent.com/7065401/52071924-c003ad80-2562-11e9-8297-1c6595f8a7ff.png)\n",
        "\n",
        "### How many rentals were made at the store with id 2 or with replacement cost lower than 10.99 USD?"
      ]
    },
    {
      "cell_type": "code",
      "execution_count": null,
      "metadata": {
        "id": "81O-xRndvXNG"
      },
      "outputs": [],
      "source": [
        "# your code goes here\n"
      ]
    },
    {
      "cell_type": "code",
      "execution_count": null,
      "metadata": {
        "cell_type": "solution",
        "id": "7ZBvYydRvXNG"
      },
      "outputs": [],
      "source": [
        "df.loc[(df['store_id'] == 2) | (df['film_replacement_cost'] < 10.99)].shape[0]"
      ]
    },
    {
      "cell_type": "markdown",
      "metadata": {
        "id": "FeBxr6ROvXNH"
      },
      "source": [
        "![purple-divider](https://user-images.githubusercontent.com/7065401/52071927-c1cd7100-2562-11e9-908a-dde91ba14e59.png)"
      ]
    }
  ],
  "metadata": {
    "kernelspec": {
      "display_name": "Python 3",
      "language": "python",
      "name": "python3"
    },
    "language_info": {
      "codemirror_mode": {
        "name": "ipython",
        "version": 3
      },
      "file_extension": ".py",
      "mimetype": "text/x-python",
      "name": "python",
      "nbconvert_exporter": "python",
      "pygments_lexer": "ipython3",
      "version": "3.6.8"
    },
    "colab": {
      "provenance": [],
      "include_colab_link": true
    }
  },
  "nbformat": 4,
  "nbformat_minor": 0
}